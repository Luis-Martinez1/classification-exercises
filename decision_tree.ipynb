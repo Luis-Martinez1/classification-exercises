{
 "cells": [
  {
   "cell_type": "markdown",
   "id": "ce3f6a4e",
   "metadata": {},
   "source": [
    "#             Decision Tree\n"
   ]
  },
  {
   "cell_type": "markdown",
   "id": "5f2358b4",
   "metadata": {},
   "source": [
    "## Part I   Using Titanic data\n",
    "1. What is your baseline prediction? What is your baseline accuracy? remember: your baseline prediction for a classification problem is predicting the most prevelant class in the training dataset (the mode). When you make those predictions, what is your accuracy? This is your baseline accuracy.\n",
    " 2. Fit the decision tree classifier to your training sample and transform (i.e. make predictions on the training sample)\n",
    " 3. Evaluate your in-sample results using the model score, confusion matrix, and classification report.\n",
    " 4. Compute: Accuracy, true positive rate, false positive rate, true negative rate, false negative rate, precision, recall, f1-score, and support.\n",
    " 5. Run through steps 2-4 using a different max_depth value.\n",
    " 6. Which model performs better on your in-sample data?\n",
    " 7. Which model performs best on your out-of-sample data, the validate set?"
   ]
  },
  {
   "cell_type": "code",
   "execution_count": 1,
   "id": "fa054673",
   "metadata": {},
   "outputs": [],
   "source": [
    "#Tabular data imports:\n",
    "import pandas as pd\n",
    "import numpy as np\n",
    "\n",
    "#Visualization imports:\n",
    "import matplotlib.pyplot as plt\n",
    "\n",
    "#Imports we need for assessing the performance of our model:\n",
    "from sklearn.tree import DecisionTreeClassifier, plot_tree\n",
    "from sklearn.model_selection import train_test_split\n",
    "from sklearn.metrics import classification_report, accuracy_score, precision_score, recall_score, confusion_matrix, ConfusionMatrixDisplay\n",
    "\n",
    "#Importing the functions for fetching the data:\n",
    "import acquire\n",
    "    \n",
    "#Importing functions for prepping the data that's fetched:\n",
    "import prepare\n",
    "\n",
    "# Import module to prep data for modeling\n",
    "import model"
   ]
  },
  {
   "cell_type": "code",
   "execution_count": 2,
   "id": "74eb5803",
   "metadata": {},
   "outputs": [
    {
     "data": {
      "text/html": [
       "<div>\n",
       "<style scoped>\n",
       "    .dataframe tbody tr th:only-of-type {\n",
       "        vertical-align: middle;\n",
       "    }\n",
       "\n",
       "    .dataframe tbody tr th {\n",
       "        vertical-align: top;\n",
       "    }\n",
       "\n",
       "    .dataframe thead th {\n",
       "        text-align: right;\n",
       "    }\n",
       "</style>\n",
       "<table border=\"1\" class=\"dataframe\">\n",
       "  <thead>\n",
       "    <tr style=\"text-align: right;\">\n",
       "      <th></th>\n",
       "      <th>passenger_id</th>\n",
       "      <th>survived</th>\n",
       "      <th>pclass</th>\n",
       "      <th>sex</th>\n",
       "      <th>age</th>\n",
       "      <th>sibsp</th>\n",
       "      <th>parch</th>\n",
       "      <th>fare</th>\n",
       "      <th>embarked</th>\n",
       "      <th>class</th>\n",
       "      <th>deck</th>\n",
       "      <th>embark_town</th>\n",
       "      <th>alone</th>\n",
       "    </tr>\n",
       "  </thead>\n",
       "  <tbody>\n",
       "    <tr>\n",
       "      <th>0</th>\n",
       "      <td>0</td>\n",
       "      <td>0</td>\n",
       "      <td>3</td>\n",
       "      <td>male</td>\n",
       "      <td>22.0</td>\n",
       "      <td>1</td>\n",
       "      <td>0</td>\n",
       "      <td>7.2500</td>\n",
       "      <td>S</td>\n",
       "      <td>Third</td>\n",
       "      <td>NaN</td>\n",
       "      <td>Southampton</td>\n",
       "      <td>0</td>\n",
       "    </tr>\n",
       "    <tr>\n",
       "      <th>1</th>\n",
       "      <td>1</td>\n",
       "      <td>1</td>\n",
       "      <td>1</td>\n",
       "      <td>female</td>\n",
       "      <td>38.0</td>\n",
       "      <td>1</td>\n",
       "      <td>0</td>\n",
       "      <td>71.2833</td>\n",
       "      <td>C</td>\n",
       "      <td>First</td>\n",
       "      <td>C</td>\n",
       "      <td>Cherbourg</td>\n",
       "      <td>0</td>\n",
       "    </tr>\n",
       "    <tr>\n",
       "      <th>2</th>\n",
       "      <td>2</td>\n",
       "      <td>1</td>\n",
       "      <td>3</td>\n",
       "      <td>female</td>\n",
       "      <td>26.0</td>\n",
       "      <td>0</td>\n",
       "      <td>0</td>\n",
       "      <td>7.9250</td>\n",
       "      <td>S</td>\n",
       "      <td>Third</td>\n",
       "      <td>NaN</td>\n",
       "      <td>Southampton</td>\n",
       "      <td>1</td>\n",
       "    </tr>\n",
       "    <tr>\n",
       "      <th>3</th>\n",
       "      <td>3</td>\n",
       "      <td>1</td>\n",
       "      <td>1</td>\n",
       "      <td>female</td>\n",
       "      <td>35.0</td>\n",
       "      <td>1</td>\n",
       "      <td>0</td>\n",
       "      <td>53.1000</td>\n",
       "      <td>S</td>\n",
       "      <td>First</td>\n",
       "      <td>C</td>\n",
       "      <td>Southampton</td>\n",
       "      <td>0</td>\n",
       "    </tr>\n",
       "    <tr>\n",
       "      <th>4</th>\n",
       "      <td>4</td>\n",
       "      <td>0</td>\n",
       "      <td>3</td>\n",
       "      <td>male</td>\n",
       "      <td>35.0</td>\n",
       "      <td>0</td>\n",
       "      <td>0</td>\n",
       "      <td>8.0500</td>\n",
       "      <td>S</td>\n",
       "      <td>Third</td>\n",
       "      <td>NaN</td>\n",
       "      <td>Southampton</td>\n",
       "      <td>1</td>\n",
       "    </tr>\n",
       "    <tr>\n",
       "      <th>...</th>\n",
       "      <td>...</td>\n",
       "      <td>...</td>\n",
       "      <td>...</td>\n",
       "      <td>...</td>\n",
       "      <td>...</td>\n",
       "      <td>...</td>\n",
       "      <td>...</td>\n",
       "      <td>...</td>\n",
       "      <td>...</td>\n",
       "      <td>...</td>\n",
       "      <td>...</td>\n",
       "      <td>...</td>\n",
       "      <td>...</td>\n",
       "    </tr>\n",
       "    <tr>\n",
       "      <th>886</th>\n",
       "      <td>886</td>\n",
       "      <td>0</td>\n",
       "      <td>2</td>\n",
       "      <td>male</td>\n",
       "      <td>27.0</td>\n",
       "      <td>0</td>\n",
       "      <td>0</td>\n",
       "      <td>13.0000</td>\n",
       "      <td>S</td>\n",
       "      <td>Second</td>\n",
       "      <td>NaN</td>\n",
       "      <td>Southampton</td>\n",
       "      <td>1</td>\n",
       "    </tr>\n",
       "    <tr>\n",
       "      <th>887</th>\n",
       "      <td>887</td>\n",
       "      <td>1</td>\n",
       "      <td>1</td>\n",
       "      <td>female</td>\n",
       "      <td>19.0</td>\n",
       "      <td>0</td>\n",
       "      <td>0</td>\n",
       "      <td>30.0000</td>\n",
       "      <td>S</td>\n",
       "      <td>First</td>\n",
       "      <td>B</td>\n",
       "      <td>Southampton</td>\n",
       "      <td>1</td>\n",
       "    </tr>\n",
       "    <tr>\n",
       "      <th>888</th>\n",
       "      <td>888</td>\n",
       "      <td>0</td>\n",
       "      <td>3</td>\n",
       "      <td>female</td>\n",
       "      <td>NaN</td>\n",
       "      <td>1</td>\n",
       "      <td>2</td>\n",
       "      <td>23.4500</td>\n",
       "      <td>S</td>\n",
       "      <td>Third</td>\n",
       "      <td>NaN</td>\n",
       "      <td>Southampton</td>\n",
       "      <td>0</td>\n",
       "    </tr>\n",
       "    <tr>\n",
       "      <th>889</th>\n",
       "      <td>889</td>\n",
       "      <td>1</td>\n",
       "      <td>1</td>\n",
       "      <td>male</td>\n",
       "      <td>26.0</td>\n",
       "      <td>0</td>\n",
       "      <td>0</td>\n",
       "      <td>30.0000</td>\n",
       "      <td>C</td>\n",
       "      <td>First</td>\n",
       "      <td>C</td>\n",
       "      <td>Cherbourg</td>\n",
       "      <td>1</td>\n",
       "    </tr>\n",
       "    <tr>\n",
       "      <th>890</th>\n",
       "      <td>890</td>\n",
       "      <td>0</td>\n",
       "      <td>3</td>\n",
       "      <td>male</td>\n",
       "      <td>32.0</td>\n",
       "      <td>0</td>\n",
       "      <td>0</td>\n",
       "      <td>7.7500</td>\n",
       "      <td>Q</td>\n",
       "      <td>Third</td>\n",
       "      <td>NaN</td>\n",
       "      <td>Queenstown</td>\n",
       "      <td>1</td>\n",
       "    </tr>\n",
       "  </tbody>\n",
       "</table>\n",
       "<p>891 rows × 13 columns</p>\n",
       "</div>"
      ],
      "text/plain": [
       "     passenger_id  survived  pclass     sex   age  sibsp  parch     fare  \\\n",
       "0               0         0       3    male  22.0      1      0   7.2500   \n",
       "1               1         1       1  female  38.0      1      0  71.2833   \n",
       "2               2         1       3  female  26.0      0      0   7.9250   \n",
       "3               3         1       1  female  35.0      1      0  53.1000   \n",
       "4               4         0       3    male  35.0      0      0   8.0500   \n",
       "..            ...       ...     ...     ...   ...    ...    ...      ...   \n",
       "886           886         0       2    male  27.0      0      0  13.0000   \n",
       "887           887         1       1  female  19.0      0      0  30.0000   \n",
       "888           888         0       3  female   NaN      1      2  23.4500   \n",
       "889           889         1       1    male  26.0      0      0  30.0000   \n",
       "890           890         0       3    male  32.0      0      0   7.7500   \n",
       "\n",
       "    embarked   class deck  embark_town  alone  \n",
       "0          S   Third  NaN  Southampton      0  \n",
       "1          C   First    C    Cherbourg      0  \n",
       "2          S   Third  NaN  Southampton      1  \n",
       "3          S   First    C  Southampton      0  \n",
       "4          S   Third  NaN  Southampton      1  \n",
       "..       ...     ...  ...          ...    ...  \n",
       "886        S  Second  NaN  Southampton      1  \n",
       "887        S   First    B  Southampton      1  \n",
       "888        S   Third  NaN  Southampton      0  \n",
       "889        C   First    C    Cherbourg      1  \n",
       "890        Q   Third  NaN   Queenstown      1  \n",
       "\n",
       "[891 rows x 13 columns]"
      ]
     },
     "execution_count": 2,
     "metadata": {},
     "output_type": "execute_result"
    }
   ],
   "source": [
    "# Acquire data\n",
    "df = acquire.get_titanic_data()\n",
    "df"
   ]
  },
  {
   "cell_type": "markdown",
   "id": "23084e06",
   "metadata": {},
   "source": [
    "#### Prepare"
   ]
  },
  {
   "cell_type": "code",
   "execution_count": 3,
   "id": "bdb2ac51",
   "metadata": {},
   "outputs": [
    {
     "data": {
      "text/html": [
       "<div>\n",
       "<style scoped>\n",
       "    .dataframe tbody tr th:only-of-type {\n",
       "        vertical-align: middle;\n",
       "    }\n",
       "\n",
       "    .dataframe tbody tr th {\n",
       "        vertical-align: top;\n",
       "    }\n",
       "\n",
       "    .dataframe thead th {\n",
       "        text-align: right;\n",
       "    }\n",
       "</style>\n",
       "<table border=\"1\" class=\"dataframe\">\n",
       "  <thead>\n",
       "    <tr style=\"text-align: right;\">\n",
       "      <th></th>\n",
       "      <th>survived</th>\n",
       "      <th>pclass</th>\n",
       "      <th>sex</th>\n",
       "      <th>sibsp</th>\n",
       "      <th>parch</th>\n",
       "      <th>fare</th>\n",
       "      <th>embark_town</th>\n",
       "      <th>alone</th>\n",
       "    </tr>\n",
       "  </thead>\n",
       "  <tbody>\n",
       "    <tr>\n",
       "      <th>420</th>\n",
       "      <td>0</td>\n",
       "      <td>3</td>\n",
       "      <td>male</td>\n",
       "      <td>0</td>\n",
       "      <td>0</td>\n",
       "      <td>7.8958</td>\n",
       "      <td>Cherbourg</td>\n",
       "      <td>1</td>\n",
       "    </tr>\n",
       "    <tr>\n",
       "      <th>660</th>\n",
       "      <td>1</td>\n",
       "      <td>1</td>\n",
       "      <td>male</td>\n",
       "      <td>2</td>\n",
       "      <td>0</td>\n",
       "      <td>133.6500</td>\n",
       "      <td>Southampton</td>\n",
       "      <td>0</td>\n",
       "    </tr>\n",
       "    <tr>\n",
       "      <th>548</th>\n",
       "      <td>0</td>\n",
       "      <td>3</td>\n",
       "      <td>male</td>\n",
       "      <td>1</td>\n",
       "      <td>1</td>\n",
       "      <td>20.5250</td>\n",
       "      <td>Southampton</td>\n",
       "      <td>0</td>\n",
       "    </tr>\n",
       "    <tr>\n",
       "      <th>185</th>\n",
       "      <td>0</td>\n",
       "      <td>1</td>\n",
       "      <td>male</td>\n",
       "      <td>0</td>\n",
       "      <td>0</td>\n",
       "      <td>50.0000</td>\n",
       "      <td>Southampton</td>\n",
       "      <td>1</td>\n",
       "    </tr>\n",
       "    <tr>\n",
       "      <th>456</th>\n",
       "      <td>0</td>\n",
       "      <td>1</td>\n",
       "      <td>male</td>\n",
       "      <td>0</td>\n",
       "      <td>0</td>\n",
       "      <td>26.5500</td>\n",
       "      <td>Southampton</td>\n",
       "      <td>1</td>\n",
       "    </tr>\n",
       "  </tbody>\n",
       "</table>\n",
       "</div>"
      ],
      "text/plain": [
       "     survived pclass   sex  sibsp  parch      fare  embark_town  alone\n",
       "420         0      3  male      0      0    7.8958    Cherbourg      1\n",
       "660         1      1  male      2      0  133.6500  Southampton      0\n",
       "548         0      3  male      1      1   20.5250  Southampton      0\n",
       "185         0      1  male      0      0   50.0000  Southampton      1\n",
       "456         0      1  male      0      0   26.5500  Southampton      1"
      ]
     },
     "execution_count": 3,
     "metadata": {},
     "output_type": "execute_result"
    }
   ],
   "source": [
    "df = prepare.clean_titanic(df)\n",
    "df.sample(5)"
   ]
  },
  {
   "cell_type": "code",
   "execution_count": 4,
   "id": "eea626f9",
   "metadata": {},
   "outputs": [
    {
     "name": "stdout",
     "output_type": "stream",
     "text": [
      "<class 'pandas.core.frame.DataFrame'>\n",
      "RangeIndex: 891 entries, 0 to 890\n",
      "Data columns (total 8 columns):\n",
      " #   Column       Non-Null Count  Dtype  \n",
      "---  ------       --------------  -----  \n",
      " 0   survived     891 non-null    int64  \n",
      " 1   pclass       891 non-null    object \n",
      " 2   sex          891 non-null    object \n",
      " 3   sibsp        891 non-null    int64  \n",
      " 4   parch        891 non-null    int64  \n",
      " 5   fare         891 non-null    float64\n",
      " 6   embark_town  891 non-null    object \n",
      " 7   alone        891 non-null    int64  \n",
      "dtypes: float64(1), int64(4), object(3)\n",
      "memory usage: 55.8+ KB\n"
     ]
    }
   ],
   "source": [
    "df.info()"
   ]
  },
  {
   "cell_type": "code",
   "execution_count": 5,
   "id": "18ab0bd0",
   "metadata": {},
   "outputs": [],
   "source": [
    "# prepare titanic for modeling\n",
    "df =model.preprocess_titanic(df)\n"
   ]
  },
  {
   "cell_type": "markdown",
   "id": "001ca071",
   "metadata": {},
   "source": [
    "####  Explore "
   ]
  },
  {
   "cell_type": "code",
   "execution_count": 6,
   "id": "3177c64b",
   "metadata": {},
   "outputs": [
    {
     "name": "stdout",
     "output_type": "stream",
     "text": [
      "train: 534 (60.0% of 891)\n",
      "validate: 178 (20.0% of 891)\n",
      "test: 179 (20.0% of 891)\n"
     ]
    }
   ],
   "source": [
    "# lets split our data into 3 - train,validate,test\n",
    "train, validate, test = prepare.split_data(df, 'survived')"
   ]
  },
  {
   "cell_type": "code",
   "execution_count": 7,
   "id": "153d3580",
   "metadata": {},
   "outputs": [
    {
     "data": {
      "text/html": [
       "<div>\n",
       "<style scoped>\n",
       "    .dataframe tbody tr th:only-of-type {\n",
       "        vertical-align: middle;\n",
       "    }\n",
       "\n",
       "    .dataframe tbody tr th {\n",
       "        vertical-align: top;\n",
       "    }\n",
       "\n",
       "    .dataframe thead th {\n",
       "        text-align: right;\n",
       "    }\n",
       "</style>\n",
       "<table border=\"1\" class=\"dataframe\">\n",
       "  <thead>\n",
       "    <tr style=\"text-align: right;\">\n",
       "      <th></th>\n",
       "      <th>survived</th>\n",
       "      <th>pclass</th>\n",
       "      <th>sibsp</th>\n",
       "      <th>parch</th>\n",
       "      <th>fare</th>\n",
       "      <th>alone</th>\n",
       "      <th>sex_male</th>\n",
       "      <th>embark_town_Queenstown</th>\n",
       "      <th>embark_town_Southampton</th>\n",
       "    </tr>\n",
       "  </thead>\n",
       "  <tbody>\n",
       "    <tr>\n",
       "      <th>776</th>\n",
       "      <td>0</td>\n",
       "      <td>3</td>\n",
       "      <td>0</td>\n",
       "      <td>0</td>\n",
       "      <td>7.7500</td>\n",
       "      <td>1</td>\n",
       "      <td>1</td>\n",
       "      <td>1</td>\n",
       "      <td>0</td>\n",
       "    </tr>\n",
       "    <tr>\n",
       "      <th>829</th>\n",
       "      <td>1</td>\n",
       "      <td>1</td>\n",
       "      <td>0</td>\n",
       "      <td>0</td>\n",
       "      <td>80.0000</td>\n",
       "      <td>1</td>\n",
       "      <td>0</td>\n",
       "      <td>0</td>\n",
       "      <td>1</td>\n",
       "    </tr>\n",
       "    <tr>\n",
       "      <th>215</th>\n",
       "      <td>1</td>\n",
       "      <td>1</td>\n",
       "      <td>1</td>\n",
       "      <td>0</td>\n",
       "      <td>113.2750</td>\n",
       "      <td>0</td>\n",
       "      <td>0</td>\n",
       "      <td>0</td>\n",
       "      <td>0</td>\n",
       "    </tr>\n",
       "    <tr>\n",
       "      <th>258</th>\n",
       "      <td>1</td>\n",
       "      <td>1</td>\n",
       "      <td>0</td>\n",
       "      <td>0</td>\n",
       "      <td>512.3292</td>\n",
       "      <td>1</td>\n",
       "      <td>0</td>\n",
       "      <td>0</td>\n",
       "      <td>0</td>\n",
       "    </tr>\n",
       "    <tr>\n",
       "      <th>129</th>\n",
       "      <td>0</td>\n",
       "      <td>3</td>\n",
       "      <td>0</td>\n",
       "      <td>0</td>\n",
       "      <td>6.9750</td>\n",
       "      <td>1</td>\n",
       "      <td>1</td>\n",
       "      <td>0</td>\n",
       "      <td>1</td>\n",
       "    </tr>\n",
       "    <tr>\n",
       "      <th>...</th>\n",
       "      <td>...</td>\n",
       "      <td>...</td>\n",
       "      <td>...</td>\n",
       "      <td>...</td>\n",
       "      <td>...</td>\n",
       "      <td>...</td>\n",
       "      <td>...</td>\n",
       "      <td>...</td>\n",
       "      <td>...</td>\n",
       "    </tr>\n",
       "    <tr>\n",
       "      <th>125</th>\n",
       "      <td>1</td>\n",
       "      <td>3</td>\n",
       "      <td>1</td>\n",
       "      <td>0</td>\n",
       "      <td>11.2417</td>\n",
       "      <td>0</td>\n",
       "      <td>1</td>\n",
       "      <td>0</td>\n",
       "      <td>0</td>\n",
       "    </tr>\n",
       "    <tr>\n",
       "      <th>360</th>\n",
       "      <td>0</td>\n",
       "      <td>3</td>\n",
       "      <td>1</td>\n",
       "      <td>4</td>\n",
       "      <td>27.9000</td>\n",
       "      <td>0</td>\n",
       "      <td>1</td>\n",
       "      <td>0</td>\n",
       "      <td>1</td>\n",
       "    </tr>\n",
       "    <tr>\n",
       "      <th>55</th>\n",
       "      <td>1</td>\n",
       "      <td>1</td>\n",
       "      <td>0</td>\n",
       "      <td>0</td>\n",
       "      <td>35.5000</td>\n",
       "      <td>1</td>\n",
       "      <td>1</td>\n",
       "      <td>0</td>\n",
       "      <td>1</td>\n",
       "    </tr>\n",
       "    <tr>\n",
       "      <th>298</th>\n",
       "      <td>1</td>\n",
       "      <td>1</td>\n",
       "      <td>0</td>\n",
       "      <td>0</td>\n",
       "      <td>30.5000</td>\n",
       "      <td>1</td>\n",
       "      <td>1</td>\n",
       "      <td>0</td>\n",
       "      <td>1</td>\n",
       "    </tr>\n",
       "    <tr>\n",
       "      <th>768</th>\n",
       "      <td>0</td>\n",
       "      <td>3</td>\n",
       "      <td>1</td>\n",
       "      <td>0</td>\n",
       "      <td>24.1500</td>\n",
       "      <td>0</td>\n",
       "      <td>1</td>\n",
       "      <td>1</td>\n",
       "      <td>0</td>\n",
       "    </tr>\n",
       "  </tbody>\n",
       "</table>\n",
       "<p>534 rows × 9 columns</p>\n",
       "</div>"
      ],
      "text/plain": [
       "     survived pclass  sibsp  parch      fare  alone  sex_male  \\\n",
       "776         0      3      0      0    7.7500      1         1   \n",
       "829         1      1      0      0   80.0000      1         0   \n",
       "215         1      1      1      0  113.2750      0         0   \n",
       "258         1      1      0      0  512.3292      1         0   \n",
       "129         0      3      0      0    6.9750      1         1   \n",
       "..        ...    ...    ...    ...       ...    ...       ...   \n",
       "125         1      3      1      0   11.2417      0         1   \n",
       "360         0      3      1      4   27.9000      0         1   \n",
       "55          1      1      0      0   35.5000      1         1   \n",
       "298         1      1      0      0   30.5000      1         1   \n",
       "768         0      3      1      0   24.1500      0         1   \n",
       "\n",
       "     embark_town_Queenstown  embark_town_Southampton  \n",
       "776                       1                        0  \n",
       "829                       0                        1  \n",
       "215                       0                        0  \n",
       "258                       0                        0  \n",
       "129                       0                        1  \n",
       "..                      ...                      ...  \n",
       "125                       0                        0  \n",
       "360                       0                        1  \n",
       "55                        0                        1  \n",
       "298                       0                        1  \n",
       "768                       1                        0  \n",
       "\n",
       "[534 rows x 9 columns]"
      ]
     },
     "execution_count": 7,
     "metadata": {},
     "output_type": "execute_result"
    }
   ],
   "source": [
    "train\n"
   ]
  },
  {
   "cell_type": "markdown",
   "id": "8ff81e2e",
   "metadata": {},
   "source": [
    "### 1. What is your baseline prediction? What is your baseline accuracy? remember: your baseline prediction for a classification problem is predicting the most prevelant class in the training dataset (the mode). When you make those predictions, what is your accuracy? This is your baseline accuracy."
   ]
  },
  {
   "cell_type": "code",
   "execution_count": 8,
   "id": "d6f771b6",
   "metadata": {},
   "outputs": [
    {
     "data": {
      "text/plain": [
       "survived\n",
       "0    329\n",
       "1    205\n",
       "Name: count, dtype: int64"
      ]
     },
     "execution_count": 8,
     "metadata": {},
     "output_type": "execute_result"
    }
   ],
   "source": [
    "# Counts for target value: survived\n",
    "train.survived.value_counts()\n",
    "# mode is not survived or 0, can also use the parameter normalize= True to see proportions of value counts"
   ]
  },
  {
   "cell_type": "markdown",
   "id": "3c393da5",
   "metadata": {},
   "source": [
    "- Baseline prediction is done by predicting the mean of the target variable (for a regression problem) or   predicting the most prevalent class i.e mode(for a classification problem).\n",
    "\n",
    "\n"
   ]
  },
  {
   "cell_type": "code",
   "execution_count": 9,
   "id": "5abd63aa",
   "metadata": {},
   "outputs": [
    {
     "name": "stdout",
     "output_type": "stream",
     "text": [
      "Baseline_accuracy of individuals who did not survive the Titanic shipwreck:61.61%\n"
     ]
    }
   ],
   "source": [
    "#instances in the training dataset where the 'survived' column has a value of 0 (not surviving)\n",
    "\n",
    "baseline_accuracy = (train['survived'] == 0).mean()\n",
    "print(f\"Baseline_accuracy of individuals who did not survive the Titanic shipwreck:{baseline_accuracy:.2%}\")\n"
   ]
  },
  {
   "cell_type": "markdown",
   "id": "5b3b290f",
   "metadata": {},
   "source": [
    "> Baseline Prediction: 0\n",
    "\n",
    "\n",
    "> Baseline Accuracy: 61.6%   "
   ]
  },
  {
   "cell_type": "markdown",
   "id": "8b7f0609",
   "metadata": {},
   "source": [
    "### 2. Fit the decision tree classifier to your training sample and transform (i.e. make predictions on the training sample)"
   ]
  },
  {
   "cell_type": "code",
   "execution_count": 10,
   "id": "62ac40f2",
   "metadata": {},
   "outputs": [],
   "source": [
    "# Splitting the dataset into features (X) and target labels (y) for training, validation, and testing sets\n",
    "# Extracting features by removing the 'survived' column\n",
    "\n",
    "# For training set\n",
    "X_train = train.drop(columns='survived')\n",
    "y_train = train.survived\n",
    "\n",
    "# For validation set\n",
    "X_val = validate.drop(columns='survived')\n",
    "y_val = validate.survived\n",
    "\n",
    "# For testing set\n",
    "X_test = test.drop(columns='survived')\n",
    "y_test = test.survived\n"
   ]
  },
  {
   "cell_type": "code",
   "execution_count": 11,
   "id": "f9eef053",
   "metadata": {},
   "outputs": [
    {
     "data": {
      "text/html": [
       "<div>\n",
       "<style scoped>\n",
       "    .dataframe tbody tr th:only-of-type {\n",
       "        vertical-align: middle;\n",
       "    }\n",
       "\n",
       "    .dataframe tbody tr th {\n",
       "        vertical-align: top;\n",
       "    }\n",
       "\n",
       "    .dataframe thead th {\n",
       "        text-align: right;\n",
       "    }\n",
       "</style>\n",
       "<table border=\"1\" class=\"dataframe\">\n",
       "  <thead>\n",
       "    <tr style=\"text-align: right;\">\n",
       "      <th></th>\n",
       "      <th>pclass</th>\n",
       "      <th>sibsp</th>\n",
       "      <th>parch</th>\n",
       "      <th>fare</th>\n",
       "      <th>alone</th>\n",
       "      <th>sex_male</th>\n",
       "      <th>embark_town_Queenstown</th>\n",
       "      <th>embark_town_Southampton</th>\n",
       "    </tr>\n",
       "  </thead>\n",
       "  <tbody>\n",
       "    <tr>\n",
       "      <th>776</th>\n",
       "      <td>3</td>\n",
       "      <td>0</td>\n",
       "      <td>0</td>\n",
       "      <td>7.75</td>\n",
       "      <td>1</td>\n",
       "      <td>1</td>\n",
       "      <td>1</td>\n",
       "      <td>0</td>\n",
       "    </tr>\n",
       "    <tr>\n",
       "      <th>829</th>\n",
       "      <td>1</td>\n",
       "      <td>0</td>\n",
       "      <td>0</td>\n",
       "      <td>80.00</td>\n",
       "      <td>1</td>\n",
       "      <td>0</td>\n",
       "      <td>0</td>\n",
       "      <td>1</td>\n",
       "    </tr>\n",
       "  </tbody>\n",
       "</table>\n",
       "</div>"
      ],
      "text/plain": [
       "    pclass  sibsp  parch   fare  alone  sex_male  embark_town_Queenstown  \\\n",
       "776      3      0      0   7.75      1         1                       1   \n",
       "829      1      0      0  80.00      1         0                       0   \n",
       "\n",
       "     embark_town_Southampton  \n",
       "776                        0  \n",
       "829                        1  "
      ]
     },
     "execution_count": 11,
     "metadata": {},
     "output_type": "execute_result"
    }
   ],
   "source": [
    "X_train.head(2)"
   ]
  },
  {
   "cell_type": "code",
   "execution_count": 12,
   "id": "7f9884b1",
   "metadata": {},
   "outputs": [],
   "source": [
    "# Make the model\n",
    "\n",
    "#If we don't set the max_depth there are chances of overfitting\n",
    "#So choose a max_depth to avoid overfitting\n",
    "clf = DecisionTreeClassifier(max_depth=3, min_samples_leaf=10)\n",
    "\n"
   ]
  },
  {
   "cell_type": "code",
   "execution_count": 13,
   "id": "58ac2eaa",
   "metadata": {},
   "outputs": [],
   "source": [
    "# Fit the model \n",
    "clf = clf.fit(X_train, y_train)"
   ]
  },
  {
   "cell_type": "code",
   "execution_count": 14,
   "id": "b7b7e5c6",
   "metadata": {},
   "outputs": [],
   "source": [
    "# Use the model\n",
    "# Evaluate the model's performance on train, first\n",
    "y_predictions = clf.predict(X_train)"
   ]
  },
  {
   "cell_type": "markdown",
   "id": "458ce6ff",
   "metadata": {},
   "source": [
    " ### 3. Evaluate your in-sample results using the model score, confusion matrix, and classification report."
   ]
  },
  {
   "cell_type": "code",
   "execution_count": 15,
   "id": "9c8dedca",
   "metadata": {},
   "outputs": [],
   "source": [
    "y_predictions_df = pd.DataFrame({\n",
    "    'y_true': y_train.values,\n",
    "    'baseline':0,\n",
    "    'dt_one': clf.predict(X_train)\n",
    "}, index=train.index)"
   ]
  },
  {
   "cell_type": "code",
   "execution_count": 16,
   "id": "955ec3f9",
   "metadata": {},
   "outputs": [
    {
     "data": {
      "text/html": [
       "<div>\n",
       "<style scoped>\n",
       "    .dataframe tbody tr th:only-of-type {\n",
       "        vertical-align: middle;\n",
       "    }\n",
       "\n",
       "    .dataframe tbody tr th {\n",
       "        vertical-align: top;\n",
       "    }\n",
       "\n",
       "    .dataframe thead th {\n",
       "        text-align: right;\n",
       "    }\n",
       "</style>\n",
       "<table border=\"1\" class=\"dataframe\">\n",
       "  <thead>\n",
       "    <tr style=\"text-align: right;\">\n",
       "      <th></th>\n",
       "      <th>y_true</th>\n",
       "      <th>baseline</th>\n",
       "      <th>dt_one</th>\n",
       "    </tr>\n",
       "  </thead>\n",
       "  <tbody>\n",
       "    <tr>\n",
       "      <th>776</th>\n",
       "      <td>0</td>\n",
       "      <td>0</td>\n",
       "      <td>0</td>\n",
       "    </tr>\n",
       "    <tr>\n",
       "      <th>829</th>\n",
       "      <td>1</td>\n",
       "      <td>0</td>\n",
       "      <td>1</td>\n",
       "    </tr>\n",
       "    <tr>\n",
       "      <th>215</th>\n",
       "      <td>1</td>\n",
       "      <td>0</td>\n",
       "      <td>1</td>\n",
       "    </tr>\n",
       "    <tr>\n",
       "      <th>258</th>\n",
       "      <td>1</td>\n",
       "      <td>0</td>\n",
       "      <td>1</td>\n",
       "    </tr>\n",
       "    <tr>\n",
       "      <th>129</th>\n",
       "      <td>0</td>\n",
       "      <td>0</td>\n",
       "      <td>0</td>\n",
       "    </tr>\n",
       "  </tbody>\n",
       "</table>\n",
       "</div>"
      ],
      "text/plain": [
       "     y_true  baseline  dt_one\n",
       "776       0         0       0\n",
       "829       1         0       1\n",
       "215       1         0       1\n",
       "258       1         0       1\n",
       "129       0         0       0"
      ]
     },
     "execution_count": 16,
     "metadata": {},
     "output_type": "execute_result"
    }
   ],
   "source": [
    "y_predictions_df.head()"
   ]
  },
  {
   "cell_type": "code",
   "execution_count": 17,
   "id": "a5898692",
   "metadata": {},
   "outputs": [
    {
     "data": {
      "text/plain": [
       "0.8146067415730337"
      ]
     },
     "execution_count": 17,
     "metadata": {},
     "output_type": "execute_result"
    }
   ],
   "source": [
    "# model score\n",
    "accuracy_score(y_predictions_df.y_true, y_predictions_df.dt_one)\n"
   ]
  },
  {
   "cell_type": "code",
   "execution_count": 18,
   "id": "8fcb2de0",
   "metadata": {},
   "outputs": [],
   "source": [
    "# another way\n",
    "# print('Accuracy of Decision Tree classifier on training set: {:.2f}'.format(clf.score(X_train, y_train)))"
   ]
  },
  {
   "cell_type": "code",
   "execution_count": 19,
   "id": "9ceb2e42",
   "metadata": {},
   "outputs": [
    {
     "data": {
      "text/plain": [
       "array([[293,  36],\n",
       "       [ 63, 142]])"
      ]
     },
     "execution_count": 19,
     "metadata": {},
     "output_type": "execute_result"
    }
   ],
   "source": [
    "# confusion matrix\n",
    "\n",
    "confusion_matrix(y_train, y_predictions)"
   ]
  },
  {
   "cell_type": "code",
   "execution_count": 20,
   "id": "65ed795d",
   "metadata": {},
   "outputs": [
    {
     "name": "stdout",
     "output_type": "stream",
     "text": [
      "              precision    recall  f1-score   support\n",
      "\n",
      "           0       0.82      0.89      0.86       329\n",
      "           1       0.80      0.69      0.74       205\n",
      "\n",
      "    accuracy                           0.81       534\n",
      "   macro avg       0.81      0.79      0.80       534\n",
      "weighted avg       0.81      0.81      0.81       534\n",
      "\n"
     ]
    }
   ],
   "source": [
    "# classification report\n",
    "print(classification_report(y_train, y_predictions))\n"
   ]
  },
  {
   "cell_type": "code",
   "execution_count": 21,
   "id": "193ae6a0",
   "metadata": {},
   "outputs": [
    {
     "data": {
      "image/png": "[encoded data removed]",
      "text/plain": [
       "<Figure size 1800x700 with 1 Axes>"
      ]
     },
     "metadata": {},
     "output_type": "display_data"
    }
   ],
   "source": [
    "# Using plot_tree to visualize the decision tree model 'clf'\n",
    "# Feature names are provided for better node labeling taken from X_train.columns\n",
    "# Class names '0' and '1' correspond to the two classes in the binary classification of the Titanic dataset \n",
    "# (not survived  and survived)\n",
    "\n",
    "plt.figure(figsize=(18, 7))\n",
    "plot_tree(clf, feature_names=X_train.columns.tolist(), class_names=['0','1'])\n",
    "plt.show()"
   ]
  },
  {
   "cell_type": "code",
   "execution_count": 22,
   "id": "42ef823b",
   "metadata": {},
   "outputs": [
    {
     "data": {
      "image/png": "[encoded data removed]",
      "text/plain": [
       "<Figure size 640x480 with 2 Axes>"
      ]
     },
     "metadata": {},
     "output_type": "display_data"
    }
   ],
   "source": [
    "# print confusion matrix\n",
    "from sklearn.metrics import confusion_matrix, ConfusionMatrixDisplay\n",
    "import matplotlib.pyplot as plt\n",
    "\n",
    "# y_train contains the true labels and y_predictions contains the predicted labels\n",
    "cm = confusion_matrix(y_train, y_predictions)\n",
    "display_labels = ['0', '1']  \n",
    "\n",
    "# Create a ConfusionMatrixDisplay object\n",
    "confusion_matrix_display = ConfusionMatrixDisplay(confusion_matrix=cm, display_labels=display_labels)\n",
    "\n",
    "# Set the colormap and plot the confusion matrix\n",
    "confusion_matrix_display.plot(cmap=plt.cm.Blues)  \n",
    "\n",
    "# Add title and axis labels\n",
    "plt.title(\"Confusion Matrix\")\n",
    "plt.xlabel(\"Predicted Labels\")\n",
    "plt.ylabel(\"True Labels\")\n",
    "\n",
    "# Show the plot\n",
    "plt.show()\n"
   ]
  },
  {
   "cell_type": "code",
   "execution_count": 23,
   "id": "b2639a15",
   "metadata": {},
   "outputs": [
    {
     "data": {
      "text/plain": [
       "array([[293,  36],\n",
       "       [ 63, 142]])"
      ]
     },
     "execution_count": 23,
     "metadata": {},
     "output_type": "execute_result"
    }
   ],
   "source": [
    "# confusion matrix\n",
    "\n",
    "confusion_matrix(y_train, y_predictions)"
   ]
  },
  {
   "cell_type": "code",
   "execution_count": null,
   "id": "19c9eff5",
   "metadata": {},
   "outputs": [],
   "source": []
  },
  {
   "cell_type": "markdown",
   "id": "351d228f",
   "metadata": {},
   "source": [
    "### 4.Compute: Accuracy, true positive rate, false positive rate, true negative rate, false negative rate, precision, recall, f1-score, and support."
   ]
  },
  {
   "cell_type": "code",
   "execution_count": 24,
   "id": "9d13e5c2",
   "metadata": {},
   "outputs": [],
   "source": [
    "def compute_metrics(TN,FP,FN,TP):\n",
    "    all_ = (TP + TN + FP + FN)\n",
    "\n",
    "    accuracy = (TP + TN) / all_\n",
    "\n",
    "    TPR = recall = TP / (TP + FN)\n",
    "    FPR = FP / (FP + TN)\n",
    "\n",
    "    TNR = TN / (FP + TN)\n",
    "    FNR = FN / (FN + TP)\n",
    "\n",
    "    precision =  TP / (TP + FP)\n",
    "    f1 =  2 * ((precision * recall) / ( precision + recall))\n",
    "\n",
    "    support_pos = TP + FN\n",
    "    support_neg = FP + TN\n",
    "\n",
    "    print(f\"Accuracy: {accuracy}\\n\")\n",
    "    print(f\"True Positive Rate/Sensitivity/Recall/Power: {TPR}\")\n",
    "    print(f\"False Positive Rate/False Alarm Ratio/Fall-out: {FPR}\")\n",
    "    print(f\"True Negative Rate/Specificity/Selectivity: {TNR}\")\n",
    "    print(f\"False Negative Rate/Miss Rate: {FNR}\\n\")\n",
    "    print(f\"Precision/PPV: {precision}\")\n",
    "    print(f\"F1 Score: {f1}\\n\")\n",
    "    print(f\"Support (0): {support_pos}\")\n",
    "    print(f\"Support (1): {support_neg}\")"
   ]
  },
  {
   "cell_type": "markdown",
   "id": "3f807cfa",
   "metadata": {},
   "source": [
    "confusion = confusion_matrix(y_train,clf.predict(X_train))\n",
    "TN, FP, FN, TP = confu.ravel()\n",
    "TN, FP, FN, TP \n"
   ]
  },
  {
   "cell_type": "markdown",
   "id": "f2d77c38",
   "metadata": {},
   "source": [
    "TN"
   ]
  },
  {
   "cell_type": "markdown",
   "id": "1e099447",
   "metadata": {},
   "source": [
    "compute_metrics(TN,FP,FN,TP)"
   ]
  },
  {
   "cell_type": "code",
   "execution_count": 25,
   "id": "1f30ae03",
   "metadata": {},
   "outputs": [],
   "source": [
    "#OR"
   ]
  },
  {
   "cell_type": "code",
   "execution_count": 26,
   "id": "86f93a31",
   "metadata": {},
   "outputs": [
    {
     "data": {
      "text/html": [
       "<div>\n",
       "<style scoped>\n",
       "    .dataframe tbody tr th:only-of-type {\n",
       "        vertical-align: middle;\n",
       "    }\n",
       "\n",
       "    .dataframe tbody tr th {\n",
       "        vertical-align: top;\n",
       "    }\n",
       "\n",
       "    .dataframe thead th {\n",
       "        text-align: right;\n",
       "    }\n",
       "</style>\n",
       "<table border=\"1\" class=\"dataframe\">\n",
       "  <thead>\n",
       "    <tr style=\"text-align: right;\">\n",
       "      <th></th>\n",
       "      <th>0 predict</th>\n",
       "      <th>1 predict</th>\n",
       "    </tr>\n",
       "  </thead>\n",
       "  <tbody>\n",
       "    <tr>\n",
       "      <th>0 actual</th>\n",
       "      <td>293</td>\n",
       "      <td>36</td>\n",
       "    </tr>\n",
       "    <tr>\n",
       "      <th>1 actual</th>\n",
       "      <td>63</td>\n",
       "      <td>142</td>\n",
       "    </tr>\n",
       "  </tbody>\n",
       "</table>\n",
       "</div>"
      ],
      "text/plain": [
       "          0 predict  1 predict\n",
       "0 actual        293         36\n",
       "1 actual         63        142"
      ]
     },
     "execution_count": 26,
     "metadata": {},
     "output_type": "execute_result"
    }
   ],
   "source": [
    "labels = sorted(y_train.unique())\n",
    "labels\n",
    "confusion_df = pd.DataFrame(cm, index=[f'{label} actual' for label in labels], columns=[f'{label} predict' for label in labels])\n",
    "confusion_df"
   ]
  },
  {
   "cell_type": "markdown",
   "id": "dd6dfed8",
   "metadata": {},
   "source": [
    "### 5.Run through steps 2-4 using a different max_depth value."
   ]
  },
  {
   "cell_type": "code",
   "execution_count": 27,
   "id": "42184d35",
   "metadata": {},
   "outputs": [
    {
     "data": {
      "text/plain": [
       "0.9400749063670412"
      ]
     },
     "execution_count": 27,
     "metadata": {},
     "output_type": "execute_result"
    }
   ],
   "source": [
    "#for one\n",
    "tree2 = DecisionTreeClassifier(max_depth=10, random_state=7)\n",
    "tree2 = tree2.fit(X_train, y_train)\n",
    "tree2.score(X_train, y_train)"
   ]
  },
  {
   "cell_type": "code",
   "execution_count": 28,
   "id": "f0506d64",
   "metadata": {},
   "outputs": [
    {
     "name": "stdout",
     "output_type": "stream",
     "text": [
      "for depth of  1, the accuracy is 0.8\n",
      "for depth of  2, the accuracy is 0.8\n",
      "for depth of  3, the accuracy is 0.81\n",
      "for depth of  4, the accuracy is 0.82\n",
      "for depth of  5, the accuracy is 0.86\n",
      "for depth of  6, the accuracy is 0.88\n",
      "for depth of  7, the accuracy is 0.9\n",
      "for depth of  8, the accuracy is 0.92\n",
      "for depth of  9, the accuracy is 0.93\n",
      "for depth of 10, the accuracy is 0.94\n",
      "for depth of 11, the accuracy is 0.94\n",
      "for depth of 12, the accuracy is 0.94\n",
      "for depth of 13, the accuracy is 0.95\n",
      "for depth of 14, the accuracy is 0.95\n",
      "for depth of 15, the accuracy is 0.95\n",
      "for depth of 16, the accuracy is 0.95\n",
      "for depth of 17, the accuracy is 0.95\n",
      "for depth of 18, the accuracy is 0.95\n",
      "for depth of 19, the accuracy is 0.95\n"
     ]
    }
   ],
   "source": [
    "#for many\n",
    "for x in range(1,20):\n",
    "#     print(x)\n",
    "    tree = DecisionTreeClassifier(max_depth=x, random_state=7)\n",
    "    tree.fit(X_train, y_train)\n",
    "    acc = tree.score(X_train, y_train)\n",
    "    print(f'for depth of {x:2}, the accuracy is {round(acc,2)}')"
   ]
  },
  {
   "cell_type": "code",
   "execution_count": 29,
   "id": "8649f755",
   "metadata": {},
   "outputs": [
    {
     "data": {
      "text/html": [
       "<div>\n",
       "<style scoped>\n",
       "    .dataframe tbody tr th:only-of-type {\n",
       "        vertical-align: middle;\n",
       "    }\n",
       "\n",
       "    .dataframe tbody tr th {\n",
       "        vertical-align: top;\n",
       "    }\n",
       "\n",
       "    .dataframe thead th {\n",
       "        text-align: right;\n",
       "    }\n",
       "</style>\n",
       "<table border=\"1\" class=\"dataframe\">\n",
       "  <thead>\n",
       "    <tr style=\"text-align: right;\">\n",
       "      <th></th>\n",
       "      <th>max_depth</th>\n",
       "      <th>train_acc</th>\n",
       "      <th>val_acc</th>\n",
       "    </tr>\n",
       "  </thead>\n",
       "  <tbody>\n",
       "    <tr>\n",
       "      <th>2</th>\n",
       "      <td>3</td>\n",
       "      <td>0.814607</td>\n",
       "      <td>0.786517</td>\n",
       "    </tr>\n",
       "    <tr>\n",
       "      <th>5</th>\n",
       "      <td>6</td>\n",
       "      <td>0.882022</td>\n",
       "      <td>0.786517</td>\n",
       "    </tr>\n",
       "    <tr>\n",
       "      <th>12</th>\n",
       "      <td>13</td>\n",
       "      <td>0.947566</td>\n",
       "      <td>0.786517</td>\n",
       "    </tr>\n",
       "    <tr>\n",
       "      <th>18</th>\n",
       "      <td>19</td>\n",
       "      <td>0.947566</td>\n",
       "      <td>0.780899</td>\n",
       "    </tr>\n",
       "    <tr>\n",
       "      <th>11</th>\n",
       "      <td>12</td>\n",
       "      <td>0.943820</td>\n",
       "      <td>0.780899</td>\n",
       "    </tr>\n",
       "    <tr>\n",
       "      <th>17</th>\n",
       "      <td>18</td>\n",
       "      <td>0.947566</td>\n",
       "      <td>0.780899</td>\n",
       "    </tr>\n",
       "    <tr>\n",
       "      <th>16</th>\n",
       "      <td>17</td>\n",
       "      <td>0.947566</td>\n",
       "      <td>0.780899</td>\n",
       "    </tr>\n",
       "    <tr>\n",
       "      <th>6</th>\n",
       "      <td>7</td>\n",
       "      <td>0.897004</td>\n",
       "      <td>0.780899</td>\n",
       "    </tr>\n",
       "    <tr>\n",
       "      <th>15</th>\n",
       "      <td>16</td>\n",
       "      <td>0.947566</td>\n",
       "      <td>0.780899</td>\n",
       "    </tr>\n",
       "    <tr>\n",
       "      <th>14</th>\n",
       "      <td>15</td>\n",
       "      <td>0.947566</td>\n",
       "      <td>0.780899</td>\n",
       "    </tr>\n",
       "    <tr>\n",
       "      <th>13</th>\n",
       "      <td>14</td>\n",
       "      <td>0.947566</td>\n",
       "      <td>0.780899</td>\n",
       "    </tr>\n",
       "    <tr>\n",
       "      <th>9</th>\n",
       "      <td>10</td>\n",
       "      <td>0.940075</td>\n",
       "      <td>0.775281</td>\n",
       "    </tr>\n",
       "    <tr>\n",
       "      <th>10</th>\n",
       "      <td>11</td>\n",
       "      <td>0.943820</td>\n",
       "      <td>0.775281</td>\n",
       "    </tr>\n",
       "    <tr>\n",
       "      <th>7</th>\n",
       "      <td>8</td>\n",
       "      <td>0.917603</td>\n",
       "      <td>0.775281</td>\n",
       "    </tr>\n",
       "    <tr>\n",
       "      <th>8</th>\n",
       "      <td>9</td>\n",
       "      <td>0.926966</td>\n",
       "      <td>0.769663</td>\n",
       "    </tr>\n",
       "    <tr>\n",
       "      <th>3</th>\n",
       "      <td>4</td>\n",
       "      <td>0.822097</td>\n",
       "      <td>0.764045</td>\n",
       "    </tr>\n",
       "    <tr>\n",
       "      <th>1</th>\n",
       "      <td>2</td>\n",
       "      <td>0.799625</td>\n",
       "      <td>0.752809</td>\n",
       "    </tr>\n",
       "    <tr>\n",
       "      <th>4</th>\n",
       "      <td>5</td>\n",
       "      <td>0.857678</td>\n",
       "      <td>0.752809</td>\n",
       "    </tr>\n",
       "    <tr>\n",
       "      <th>0</th>\n",
       "      <td>1</td>\n",
       "      <td>0.799625</td>\n",
       "      <td>0.752809</td>\n",
       "    </tr>\n",
       "  </tbody>\n",
       "</table>\n",
       "</div>"
      ],
      "text/plain": [
       "    max_depth  train_acc   val_acc\n",
       "2           3   0.814607  0.786517\n",
       "5           6   0.882022  0.786517\n",
       "12         13   0.947566  0.786517\n",
       "18         19   0.947566  0.780899\n",
       "11         12   0.943820  0.780899\n",
       "17         18   0.947566  0.780899\n",
       "16         17   0.947566  0.780899\n",
       "6           7   0.897004  0.780899\n",
       "15         16   0.947566  0.780899\n",
       "14         15   0.947566  0.780899\n",
       "13         14   0.947566  0.780899\n",
       "9          10   0.940075  0.775281\n",
       "10         11   0.943820  0.775281\n",
       "7           8   0.917603  0.775281\n",
       "8           9   0.926966  0.769663\n",
       "3           4   0.822097  0.764045\n",
       "1           2   0.799625  0.752809\n",
       "4           5   0.857678  0.752809\n",
       "0           1   0.799625  0.752809"
      ]
     },
     "execution_count": 29,
     "metadata": {},
     "output_type": "execute_result"
    }
   ],
   "source": [
    "#This function iterates through different max depths of a decision tree classifier, \n",
    "#evaluates its training and validation accuracies, stores the results in a DataFrame,\n",
    "#and displays the top-performing configurations by validation accuracy.\n",
    "\n",
    "#empty list created to store the results for different configurations of the decision tree classifier\n",
    "scores_all = []\n",
    "\n",
    "#loop iterates through values from 1 to 19\n",
    "for x in range(1,20):\n",
    "\n",
    "    #Create and Train Tree on training data\n",
    "    tree = DecisionTreeClassifier(max_depth=x, random_state=7)\n",
    "    tree.fit(X_train, y_train)\n",
    "    \n",
    "    # evaluate on train using score method on the train data \n",
    "    train_acc = tree.score(X_train, y_train)\n",
    "    \n",
    "    #Evaluate Validation accuracy on validate data using score method  \n",
    "    val_acc = tree.score(X_val, y_val)\n",
    "    \n",
    "    #Append results\n",
    "    scores_all.append([x, train_acc, val_acc])\n",
    "    \n",
    "# converts the scores_all list of lists into a pandas DataFrame named scores_df and assigns columns \n",
    "# max_depth','train_acc','val_acc'    \n",
    "scores_df = pd.DataFrame(scores_all, columns=['max_depth','train_acc','val_acc'])\n",
    "scores_df = pd.DataFrame(scores_all, columns=['max_depth','train_acc','val_acc'])\n",
    "#sorts the DataFrame scores_df in descending order based on the 'val_acc' column\n",
    "scores_df.sort_values(by=['val_acc'], ascending=False)"
   ]
  },
  {
   "cell_type": "markdown",
   "id": "be92c35a",
   "metadata": {},
   "source": [
    "### 6.Which model performs better on your in-sample data?"
   ]
  },
  {
   "cell_type": "markdown",
   "id": "f8d6931d",
   "metadata": {},
   "source": [
    "- look at the highest training accuracy achieved among all the models you trained.\n"
   ]
  },
  {
   "cell_type": "markdown",
   "id": "d30ee581",
   "metadata": {},
   "source": [
    "\n",
    "> The optimal model would be with a max depth of 15 or greater"
   ]
  },
  {
   "cell_type": "markdown",
   "id": "9deac558",
   "metadata": {},
   "source": [
    "- The model's performance on the data it was trained on (i.e., the training data)\n",
    "- A higher training accuracy indicates that the model is overfitting the training data, but it doesn't necessarily mean the model will perform as well on new, unseen data (i.e., the validation or test data)."
   ]
  },
  {
   "cell_type": "code",
   "execution_count": 30,
   "id": "a3c6645c",
   "metadata": {},
   "outputs": [
    {
     "data": {
      "text/plain": [
       "0.947565543071161"
      ]
     },
     "execution_count": 30,
     "metadata": {},
     "output_type": "execute_result"
    }
   ],
   "source": [
    "best_training_accuracy = scores_df['train_acc'].max()\n",
    "best_training_accuracy"
   ]
  },
  {
   "cell_type": "markdown",
   "id": "2a59203a",
   "metadata": {},
   "source": [
    "### 7.Which model performs best on your out-of-sample data, the validate set?"
   ]
  },
  {
   "cell_type": "markdown",
   "id": "f22982a9",
   "metadata": {},
   "source": [
    "- Out-of-sample data -The model's performance on data it hasn't seen during training, specifically the validation data"
   ]
  },
  {
   "cell_type": "code",
   "execution_count": 31,
   "id": "6a8fe956",
   "metadata": {},
   "outputs": [
    {
     "data": {
      "text/plain": [
       "0.7865168539325843"
      ]
     },
     "execution_count": 31,
     "metadata": {},
     "output_type": "execute_result"
    }
   ],
   "source": [
    "best_validation_accuracy = scores_df['val_acc'].max()\n",
    "best_validation_accuracy"
   ]
  },
  {
   "cell_type": "code",
   "execution_count": 32,
   "id": "d10ede81",
   "metadata": {},
   "outputs": [
    {
     "data": {
      "image/png": "[encoded data removed]",
      "text/plain": [
       "<Figure size 1200x600 with 1 Axes>"
      ]
     },
     "metadata": {},
     "output_type": "display_data"
    }
   ],
   "source": [
    "#Visualize how accuracy changes with different maximum depths for a decision tree classifier on both the training \n",
    "#and validation sets\n",
    "\n",
    "plt.figure(figsize=(12,6))\n",
    "plt.plot(scores_df.max_depth, scores_df.train_acc, label='train', marker='o')\n",
    "plt.plot(scores_df.max_depth, scores_df.val_acc, label='test', marker='o')\n",
    "plt.xlabel('max depth')\n",
    "plt.ylabel('accuracy')\n",
    "plt.title('how does the accuracy change with max depth on train and validate?')\n",
    "plt.legend()\n",
    "plt.show()\n"
   ]
  },
  {
   "cell_type": "markdown",
   "id": "a293aff4",
   "metadata": {},
   "source": [
    "> This chart highlights a fundamental topic called the bias variance trade off...\n",
    "\n",
    "> Overfitting vs Underfitting\n",
    "\n",
    "> Imagine a scatter plot so theres an x and y axis with various data points\n",
    "\n",
    "> Underfitting (High Bias) would be drawing a straight line horizontally so hitting a small minority of the data. High train/test error because its failing to capture the data, to make accurate predictions\n",
    "\n",
    "> Overfitting (High Variance) would be drawing a line through every single point of that line. Low train error because its fitting to the data so closely and high test error because it can't generlaize well\n",
    "\n",
    "> Goal is to acheive a model that performs well in terms of your metrics/that predicts well on training and test data\n",
    "\n",
    " "
   ]
  },
  {
   "cell_type": "markdown",
   "id": "cd389aac",
   "metadata": {},
   "source": [
    "very close, but model with depth = 3"
   ]
  },
  {
   "cell_type": "code",
   "execution_count": 36,
   "id": "ad93a52a",
   "metadata": {},
   "outputs": [
    {
     "data": {
      "text/plain": [
       "0.7528089887640449"
      ]
     },
     "execution_count": 36,
     "metadata": {},
     "output_type": "execute_result"
    }
   ],
   "source": [
    "# max depth = 1 \n",
    "tree = DecisionTreeClassifier(max_depth=1, random_state= 42)\n",
    "out_tree = tree.fit(X_train, y_train)\n",
    "out_tree.score(X_val, y_val)\n"
   ]
  },
  {
   "cell_type": "code",
   "execution_count": 37,
   "id": "1938914e",
   "metadata": {},
   "outputs": [
    {
     "data": {
      "text/plain": [
       "0.7865168539325843"
      ]
     },
     "execution_count": 37,
     "metadata": {},
     "output_type": "execute_result"
    }
   ],
   "source": [
    "# max depth = 3\n",
    "tree = DecisionTreeClassifier(max_depth=3, random_state=42)\n",
    "out_tree = tree.fit(X_train, y_train)\n",
    "out_tree.score(X_val, y_val)"
   ]
  },
  {
   "cell_type": "markdown",
   "id": "53932ffa",
   "metadata": {},
   "source": [
    "## Part II  Telco "
   ]
  },
  {
   "cell_type": "markdown",
   "id": "bd35415a",
   "metadata": {},
   "source": [
    "Not needed for this exercise"
   ]
  },
  {
   "cell_type": "code",
   "execution_count": null,
   "id": "484cdf87",
   "metadata": {},
   "outputs": [],
   "source": []
  }
 ],
 "metadata": {
  "kernelspec": {
   "display_name": "Python 3 (ipykernel)",
   "language": "python",
   "name": "python3"
  },
  "language_info": {
   "codemirror_mode": {
    "name": "ipython",
    "version": 3
   },
   "file_extension": ".py",
   "mimetype": "text/x-python",
   "name": "python",
   "nbconvert_exporter": "python",
   "pygments_lexer": "ipython3",
   "version": "3.11.5"
  }
 },
 "nbformat": 4,
 "nbformat_minor": 5
}
