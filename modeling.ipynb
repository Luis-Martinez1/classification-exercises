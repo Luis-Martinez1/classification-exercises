{
 "cells": [
  {
   "cell_type": "markdown",
   "id": "0209a4d2",
   "metadata": {},
   "source": [
    "Using the Titanic dataset\n",
    "\n",
    " 1. Use the function defined in acquire.py to load the Titanic data.\n",
    " 2. Use the function defined in prepare.py to prepare the titanic data.\n",
    " 3. Encode the categorical columns on train dataset. Create dummy variables of the categorical columns and concatenate them onto the dataframe. Remove the columns they are replacing. Repeat on validate and test.\n",
    " 4. Create a function named preprocess_titanic that accepts the train, validate, and test titanic data, and returns the dataframes ready for modeling."
   ]
  },
  {
   "cell_type": "code",
   "execution_count": null,
   "id": "8e091463",
   "metadata": {},
   "outputs": [],
   "source": []
  }
 ],
 "metadata": {
  "kernelspec": {
   "display_name": "Python 3 (ipykernel)",
   "language": "python",
   "name": "python3"
  },
  "language_info": {
   "codemirror_mode": {
    "name": "ipython",
    "version": 3
   },
   "file_extension": ".py",
   "mimetype": "text/x-python",
   "name": "python",
   "nbconvert_exporter": "python",
   "pygments_lexer": "ipython3",
   "version": "3.11.5"
  }
 },
 "nbformat": 4,
 "nbformat_minor": 5
}
